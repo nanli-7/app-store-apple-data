{
 "cells": [
  {
   "cell_type": "code",
   "execution_count": 1,
   "metadata": {},
   "outputs": [],
   "source": [
    "import elasticsearch"
   ]
  },
  {
   "cell_type": "code",
   "execution_count": 2,
   "metadata": {},
   "outputs": [],
   "source": [
    "import json"
   ]
  },
  {
   "cell_type": "code",
   "execution_count": 3,
   "metadata": {},
   "outputs": [],
   "source": [
    "import pandas"
   ]
  },
  {
   "cell_type": "code",
   "execution_count": 4,
   "metadata": {},
   "outputs": [],
   "source": [
    "app = pandas.read_csv('AppleStore.csv')"
   ]
  },
  {
   "cell_type": "code",
   "execution_count": 5,
   "metadata": {},
   "outputs": [],
   "source": [
    "desc = pandas.read_csv('appleStore_description.csv')"
   ]
  },
  {
   "cell_type": "markdown",
   "metadata": {},
   "source": [
    "### merge two data sets "
   ]
  },
  {
   "cell_type": "code",
   "execution_count": 7,
   "metadata": {},
   "outputs": [
    {
     "data": {
      "text/plain": [
       "Index(['Unnamed: 0', 'id', 'track_name', 'size_bytes', 'currency', 'price',\n",
       "       'rating_count_tot', 'rating_count_ver', 'user_rating',\n",
       "       'user_rating_ver', 'ver', 'cont_rating', 'prime_genre',\n",
       "       'sup_devices.num', 'ipadSc_urls.num', 'lang.num', 'vpp_lic'],\n",
       "      dtype='object')"
      ]
     },
     "execution_count": 7,
     "metadata": {},
     "output_type": "execute_result"
    }
   ],
   "source": [
    "app.keys()"
   ]
  },
  {
   "cell_type": "code",
   "execution_count": 8,
   "metadata": {},
   "outputs": [
    {
     "data": {
      "text/plain": [
       "Index(['id', 'track_name', 'size_bytes', 'app_desc'], dtype='object')"
      ]
     },
     "execution_count": 8,
     "metadata": {},
     "output_type": "execute_result"
    }
   ],
   "source": [
    "desc.keys()"
   ]
  },
  {
   "cell_type": "code",
   "execution_count": 42,
   "metadata": {},
   "outputs": [],
   "source": [
    "df_new = pandas.merge(app, desc, on=['id', 'track_name','size_bytes'])"
   ]
  },
  {
   "cell_type": "code",
   "execution_count": 43,
   "metadata": {},
   "outputs": [],
   "source": [
    "df_new = df_new.drop('Unnamed: 0', axis=1)"
   ]
  },
  {
   "cell_type": "code",
   "execution_count": 46,
   "metadata": {},
   "outputs": [],
   "source": [
    "df_new.rename(columns={'sup_devices.num': 'sup_devices_num', \n",
    "                       \"ipadSc_urls.num\":\"ipadSc_urls_num\",\n",
    "                       \"lang.num\":\"lang_num\"}, inplace=True)"
   ]
  },
  {
   "cell_type": "code",
   "execution_count": 53,
   "metadata": {},
   "outputs": [
    {
     "data": {
      "text/plain": [
       "id                    int64\n",
       "track_name           object\n",
       "size_bytes            int64\n",
       "currency             object\n",
       "price               float64\n",
       "rating_count_tot      int64\n",
       "rating_count_ver      int64\n",
       "user_rating         float64\n",
       "user_rating_ver     float64\n",
       "ver                  object\n",
       "cont_rating          object\n",
       "prime_genre          object\n",
       "sup_devices_num       int64\n",
       "ipadSc_urls_num       int64\n",
       "lang_num              int64\n",
       "vpp_lic               int64\n",
       "app_desc             object\n",
       "dtype: object"
      ]
     },
     "execution_count": 53,
     "metadata": {},
     "output_type": "execute_result"
    }
   ],
   "source": [
    "#check data types \n",
    "df_new.dtypes"
   ]
  },
  {
   "cell_type": "code",
   "execution_count": 48,
   "metadata": {},
   "outputs": [],
   "source": [
    "app_list = df_new.to_dict('records')"
   ]
  },
  {
   "cell_type": "markdown",
   "metadata": {},
   "source": [
    "### convert to json file"
   ]
  },
  {
   "cell_type": "code",
   "execution_count": 50,
   "metadata": {},
   "outputs": [],
   "source": [
    "action_list = []\n",
    "for i in range(len(df_new)):\n",
    "    # create index for each entry\n",
    "    action = { \"index\" : { \"_index\" : \"app\", \"_type\" : \"_doc\", \"_id\" : i+1 } }\n",
    "    action_list.append(action)\n",
    "    "
   ]
  },
  {
   "cell_type": "code",
   "execution_count": 51,
   "metadata": {},
   "outputs": [],
   "source": [
    "with open('apps.json', 'w') as outfile:\n",
    "    for (idx, line) in zip(action_list, app_list):\n",
    "        json.dump(idx, outfile)\n",
    "        outfile.write('\\n')\n",
    "        json.dump(line, outfile)\n",
    "        outfile.write('\\n')"
   ]
  },
  {
   "cell_type": "markdown",
   "metadata": {},
   "source": [
    "### index documents"
   ]
  },
  {
   "cell_type": "code",
   "execution_count": 18,
   "metadata": {},
   "outputs": [],
   "source": [
    "es = elasticsearch.Elasticsearch()"
   ]
  },
  {
   "cell_type": "markdown",
   "metadata": {},
   "source": [
    "### create mappings "
   ]
  },
  {
   "cell_type": "raw",
   "metadata": {},
   "source": [
    "{\n",
    "  \"app\" : {\n",
    "    \"mappings\" : {\n",
    "      \"properties\" : {\n",
    "        \"app_desc\" : {\n",
    "          \"type\" : \"text\"\n",
    "        },\n",
    "        \"cont_rating\" : {\n",
    "          \"type\" : \"text\"\n",
    "        },\n",
    "        \"currency\" : {\n",
    "          \"type\" : \"keyword\"\n",
    "        },\n",
    "        \"id\" : {\n",
    "          \"type\" : \"integer\"\n",
    "        },\n",
    "        \"ipadSc_urls_num\" : {\n",
    "          \"type\" : \"integer\"\n",
    "        },\n",
    "        \"lang_num\" : {\n",
    "          \"type\" : \"integer\"\n",
    "        },\n",
    "        \"price\" : {\n",
    "          \"type\" : \"float\"\n",
    "        },\n",
    "        \"prime_genre\" : {\n",
    "          \"type\" : \"keyword\"\n",
    "        },\n",
    "        \"rating_count_tot\" : {\n",
    "          \"type\" : \"integer\"\n",
    "        },\n",
    "        \"rating_count_ver\" : {\n",
    "          \"type\" : \"integer\"\n",
    "        },\n",
    "        \"size_bytes\" : {\n",
    "          \"type\" : \"integer\"\n",
    "        },\n",
    "        \"sup_devices_num\" : {\n",
    "          \"type\" : \"integer\"\n",
    "        },\n",
    "        \"track_name\" : {\n",
    "          \"type\" : \"text\"\n",
    "        },\n",
    "        \"user_rating\" : {\n",
    "          \"type\" : \"float\"\n",
    "        },\n",
    "        \"user_rating_ver\" : {\n",
    "          \"type\" : \"float\"\n",
    "        },\n",
    "        \"ver\" : {\n",
    "          \"type\" : \"text\"\n",
    "        },\n",
    "        \"vpp_lic\" : {\n",
    "          \"type\" : \"integer\"\n",
    "        }\n",
    "      }\n",
    "    }\n",
    "  }\n",
    "}\n"
   ]
  },
  {
   "cell_type": "markdown",
   "metadata": {},
   "source": [
    "import json files "
   ]
  },
  {
   "cell_type": "raw",
   "metadata": {},
   "source": [
    "curl -H 'Content-Type: application/x-ndjson' -XPOST 'localhost:9200/app/_bulk?pretty' --data-binary @apps.json"
   ]
  },
  {
   "cell_type": "markdown",
   "metadata": {},
   "source": [
    "## Run simple queries"
   ]
  },
  {
   "cell_type": "markdown",
   "metadata": {},
   "source": [
    "### Number of apps in food&drink category?"
   ]
  },
  {
   "cell_type": "raw",
   "metadata": {},
   "source": [
    "GET app/_doc/_search\n",
    "{\n",
    "    \"query\": {\n",
    "        \"term\": {\n",
    "            \"prime_genre\": {\n",
    "                \"value\": \"Food & Drink\",\n",
    "                \"boost\": 1.0\n",
    "            }\n",
    "        }\n",
    "    }\n",
    "}"
   ]
  },
  {
   "cell_type": "raw",
   "metadata": {},
   "source": [
    "# total 63 apps in food&drink genre , first result \n",
    "\n",
    "{  \"hits\" : {\n",
    "    \"total\" : {\n",
    "      \"value\" : 63,\n",
    "      \"relation\" : \"eq\"\n",
    "    },\n",
    "    \"max_score\" : 4.7228484,\n",
    "    \"hits\" : "
   ]
  },
  {
   "cell_type": "markdown",
   "metadata": {},
   "source": [
    "### Which Apps will provide breakfeast recipes? "
   ]
  },
  {
   "cell_type": "raw",
   "metadata": {},
   "source": [
    "GET app/_doc/_search\n",
    "{\n",
    "    \"query\": {\n",
    "        \"match\" : {\n",
    "            \"app_desc\" : {\n",
    "                \"query\" : \"breakfast recipe\",\n",
    "                \"fuzziness\": \"AUTO\"\n",
    "            }\n",
    "        }\n",
    "    }\n",
    "}"
   ]
  },
  {
   "cell_type": "raw",
   "metadata": {},
   "source": [
    "total 718 hits, first result \n",
    "{\n",
    "  \"hits\" : {\n",
    "    \"total\" : {\n",
    "      \"value\" : 718,\n",
    "      \"relation\" : \"eq\"\n",
    "    },\n",
    "    \"max_score\" : 21.428228,\n",
    "    \"hits\" : [\n",
    "      {\n",
    "        \"_index\" : \"app\",\n",
    "        \"_type\" : \"_doc\",\n",
    "        \"_id\" : \"2468\",\n",
    "        \"_score\" : 21.428228,\n",
    "        \"_source\" : {\n",
    "          \"id\" : 813952961,\n",
    "          \"track_name\" : \"Deliciously Ella\",\n",
    "          \"size_bytes\" : 522395648,\n",
    "          \"currency\" : \"USD\",\n",
    "          \"price\" : 3.99,\n",
    "          \"rating_count_tot\" : 62,\n",
    "          \"rating_count_ver\" : 0,\n",
    "          \"user_rating\" : 3.5,\n",
    "          \"user_rating_ver\" : 0.0,\n",
    "          \"ver\" : \"4.0.0\",\n",
    "          \"cont_rating\" : \"4+\",\n",
    "          \"prime_genre\" : \"Food & Drink\",\n",
    "          \"sup_devices_num\" : 37,\n",
    "          \"ipadSc_urls_num\" : 4,\n",
    "          \"lang_num\" : 1,\n",
    "          \"vpp_lic\" : 1,\n",
    "          \"app_desc\" : \"\"\"\n",
    "The Deliciously Ella App is all about making healthy, natural recipes easy to access.  The app contains over 260 simple, easy to follow recipes, all of which are gluten, dairy and refined sugar free, as well as vegetarian. Plus more than 40 exclusive app recipes. \n",
    "\n",
    "The app contains all the recipes from the Deliciously Ella blog in an easy to access format, as well as 40 exclusive app recipes, which are so delicious, and are continuously being added to.\n",
    "\n",
    "The recipes vary from quick snacks like baked avocados and cinnamon raisin almond energy balls, to hearty meals, like creamy mushroom Alfredo pasta, as well as smoothies, juices, breakfasts and of course lots of sweets from candied pecan chocolate to salted vanilla almond butter cups.\n",
    "\n",
    "The app is updated roughly every 2 to 3 months with between 10 and 20 recipes, so you’ll never be short of inspiration.\n",
    "\n",
    "The app is aimed to be the perfect introduction to a world of delicious healthy living, keeping you happy and energised from breakfast to dinner and everything in-between!\n",
    "\n",
    "Features:\n",
    "\n",
    "- Over 260 simple, easy to follow recipes with clear instructions\n",
    "- Timing and serving number for each recipe\n",
    "- Multiple photos  \n",
    "- Vegan, vegetarian, sugar free, gluten free, dairy free friendly\n",
    "- Share recipes and ingredients by email and text \n",
    "- Share on Facebook, Twitter and other social networks\n",
    "- Save your favourites\n",
    "- Search tool to find specific recipes\n",
    "- Icon to distinguish the exclusive app recipes\"\"\"\n",
    "}}"
   ]
  },
  {
   "cell_type": "code",
   "execution_count": null,
   "metadata": {},
   "outputs": [],
   "source": []
  }
 ],
 "metadata": {
  "kernelspec": {
   "display_name": "Python 3",
   "language": "python",
   "name": "python3"
  },
  "language_info": {
   "codemirror_mode": {
    "name": "ipython",
    "version": 3
   },
   "file_extension": ".py",
   "mimetype": "text/x-python",
   "name": "python",
   "nbconvert_exporter": "python",
   "pygments_lexer": "ipython3",
   "version": "3.7.2"
  }
 },
 "nbformat": 4,
 "nbformat_minor": 2
}
