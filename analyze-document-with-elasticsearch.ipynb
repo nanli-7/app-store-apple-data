{
 "cells": [
  {
   "cell_type": "code",
   "execution_count": 1,
   "metadata": {},
   "outputs": [],
   "source": [
    "import elasticsearch"
   ]
  },
  {
   "cell_type": "code",
   "execution_count": 2,
   "metadata": {},
   "outputs": [],
   "source": [
    "import json"
   ]
  },
  {
   "cell_type": "code",
   "execution_count": 3,
   "metadata": {},
   "outputs": [],
   "source": [
    "import pandas"
   ]
  },
  {
   "cell_type": "code",
   "execution_count": 4,
   "metadata": {},
   "outputs": [],
   "source": [
    "app = pandas.read_csv('AppleStore.csv')"
   ]
  },
  {
   "cell_type": "code",
   "execution_count": 5,
   "metadata": {},
   "outputs": [],
   "source": [
    "desc = pandas.read_csv('appleStore_description.csv')"
   ]
  },
  {
   "cell_type": "markdown",
   "metadata": {},
   "source": [
    "## 1. Data Preprocessing"
   ]
  },
  {
   "cell_type": "markdown",
   "metadata": {},
   "source": [
    "### 1. 1 Merge two data sets on common column names"
   ]
  },
  {
   "cell_type": "code",
   "execution_count": 6,
   "metadata": {},
   "outputs": [
    {
     "data": {
      "text/plain": [
       "Index(['Unnamed: 0', 'id', 'track_name', 'size_bytes', 'currency', 'price',\n",
       "       'rating_count_tot', 'rating_count_ver', 'user_rating',\n",
       "       'user_rating_ver', 'ver', 'cont_rating', 'prime_genre',\n",
       "       'sup_devices.num', 'ipadSc_urls.num', 'lang.num', 'vpp_lic'],\n",
       "      dtype='object')"
      ]
     },
     "execution_count": 6,
     "metadata": {},
     "output_type": "execute_result"
    }
   ],
   "source": [
    "app.keys()"
   ]
  },
  {
   "cell_type": "code",
   "execution_count": 7,
   "metadata": {},
   "outputs": [
    {
     "data": {
      "text/plain": [
       "Index(['id', 'track_name', 'size_bytes', 'app_desc'], dtype='object')"
      ]
     },
     "execution_count": 7,
     "metadata": {},
     "output_type": "execute_result"
    }
   ],
   "source": [
    "desc.keys()"
   ]
  },
  {
   "cell_type": "code",
   "execution_count": 8,
   "metadata": {},
   "outputs": [],
   "source": [
    "df_new = pandas.merge(app, desc, on=['id', 'track_name','size_bytes'])"
   ]
  },
  {
   "cell_type": "code",
   "execution_count": 9,
   "metadata": {},
   "outputs": [],
   "source": [
    "#delete index column\n",
    "df_new = df_new.drop('Unnamed: 0', axis=1)"
   ]
  },
  {
   "cell_type": "code",
   "execution_count": 10,
   "metadata": {},
   "outputs": [],
   "source": [
    "df_new.rename(columns={'sup_devices.num': 'sup_devices_num', \n",
    "                       \"ipadSc_urls.num\":\"ipadSc_urls_num\",\n",
    "                       \"lang.num\":\"lang_num\"}, inplace=True)"
   ]
  },
  {
   "cell_type": "code",
   "execution_count": 11,
   "metadata": {},
   "outputs": [
    {
     "data": {
      "text/plain": [
       "id                    int64\n",
       "track_name           object\n",
       "size_bytes            int64\n",
       "currency             object\n",
       "price               float64\n",
       "rating_count_tot      int64\n",
       "rating_count_ver      int64\n",
       "user_rating         float64\n",
       "user_rating_ver     float64\n",
       "ver                  object\n",
       "cont_rating          object\n",
       "prime_genre          object\n",
       "sup_devices_num       int64\n",
       "ipadSc_urls_num       int64\n",
       "lang_num              int64\n",
       "vpp_lic               int64\n",
       "app_desc             object\n",
       "dtype: object"
      ]
     },
     "execution_count": 11,
     "metadata": {},
     "output_type": "execute_result"
    }
   ],
   "source": [
    "#check data types \n",
    "df_new.dtypes"
   ]
  },
  {
   "cell_type": "code",
   "execution_count": 12,
   "metadata": {},
   "outputs": [],
   "source": [
    "# convert dataframe into dictionary for further usage\n",
    "app_list = df_new.to_dict('records')"
   ]
  },
  {
   "cell_type": "markdown",
   "metadata": {},
   "source": [
    "### 1.2 Add index info and convert into json file"
   ]
  },
  {
   "cell_type": "code",
   "execution_count": 13,
   "metadata": {},
   "outputs": [],
   "source": [
    "action_list = []\n",
    "for i in range(len(df_new)):\n",
    "    # create index for each entry\n",
    "    action = { \"index\" : { \"_index\" : \"app\", \"_type\" : \"_doc\", \"_id\" : i+1 } }\n",
    "    action_list.append(action)\n",
    "    "
   ]
  },
  {
   "cell_type": "code",
   "execution_count": 14,
   "metadata": {},
   "outputs": [],
   "source": [
    "with open('apps.json', 'w') as outfile:\n",
    "    for (idx, line) in zip(action_list, app_list):\n",
    "        json.dump(idx, outfile)\n",
    "        outfile.write('\\n')\n",
    "        json.dump(line, outfile)\n",
    "        outfile.write('\\n')"
   ]
  },
  {
   "cell_type": "markdown",
   "metadata": {},
   "source": [
    "## 2. Index documents"
   ]
  },
  {
   "cell_type": "code",
   "execution_count": 15,
   "metadata": {},
   "outputs": [],
   "source": [
    "es = elasticsearch.Elasticsearch()"
   ]
  },
  {
   "cell_type": "markdown",
   "metadata": {},
   "source": [
    "### 2.1 Create mappings for index"
   ]
  },
  {
   "cell_type": "markdown",
   "metadata": {},
   "source": [
    "```\n",
    "{\n",
    "  \"app\" : {\n",
    "    \"mappings\" : {\n",
    "      \"properties\" : {\n",
    "        \"app_desc\" : {\n",
    "          \"type\" : \"text\",\n",
    "          \"analyzer\": \"standard\"\n",
    "        },\n",
    "        \"cont_rating\" : {\n",
    "          \"type\" : \"text\"\n",
    "        },\n",
    "        \"currency\" : {\n",
    "          \"type\" : \"keyword\"\n",
    "        },\n",
    "        \"id\" : {\n",
    "          \"type\" : \"integer\"\n",
    "        },\n",
    "        \"ipadSc_urls_num\" : {\n",
    "          \"type\" : \"integer\"\n",
    "        },\n",
    "        \"lang_num\" : {\n",
    "          \"type\" : \"integer\"\n",
    "        },\n",
    "        \"price\" : {\n",
    "          \"type\" : \"float\"\n",
    "        },\n",
    "        \"prime_genre\" : {\n",
    "          \"type\" : \"keyword\"\n",
    "        },\n",
    "        \"rating_count_tot\" : {\n",
    "          \"type\" : \"integer\"\n",
    "        },\n",
    "        \"rating_count_ver\" : {\n",
    "          \"type\" : \"integer\"\n",
    "        },\n",
    "        \"size_bytes\" : {\n",
    "          \"type\" : \"integer\"\n",
    "        },\n",
    "        \"sup_devices_num\" : {\n",
    "          \"type\" : \"integer\"\n",
    "        },\n",
    "        \"track_name\" : {\n",
    "          \"type\" : \"text\"\n",
    "        },\n",
    "        \"user_rating\" : {\n",
    "          \"type\" : \"float\"\n",
    "        },\n",
    "        \"user_rating_ver\" : {\n",
    "          \"type\" : \"float\"\n",
    "        },\n",
    "        \"ver\" : {\n",
    "          \"type\" : \"text\"\n",
    "        },\n",
    "        \"vpp_lic\" : {\n",
    "          \"type\" : \"integer\"\n",
    "        }\n",
    "      }\n",
    "    }\n",
    "  }\n",
    "}\n",
    "```"
   ]
  },
  {
   "cell_type": "markdown",
   "metadata": {},
   "source": [
    "### 2.2 import json files "
   ]
  },
  {
   "cell_type": "markdown",
   "metadata": {},
   "source": [
    "```\n",
    "curl -H 'Content-Type: application/x-ndjson' -XPOST 'localhost:9200/app/_bulk?pretty' --data-binary @apps.json\n",
    "```"
   ]
  },
  {
   "cell_type": "markdown",
   "metadata": {},
   "source": [
    "## 3. Run simple queries"
   ]
  },
  {
   "cell_type": "markdown",
   "metadata": {},
   "source": [
    "### 3.1 Number of apps in each genre"
   ]
  },
  {
   "cell_type": "markdown",
   "metadata": {},
   "source": [
    "\n",
    "__Query:__\n",
    "\n",
    "```\n",
    "GET app/_doc/_search?size=0\n",
    "{\n",
    "  \"aggs\": {\n",
    "    \"types_count\": {\n",
    "      \"terms\": {\n",
    "        \"field\": \"prime_genre.keyword\"\n",
    "      }\n",
    "    }\n",
    "  }\n",
    "}\n",
    "```"
   ]
  },
  {
   "cell_type": "markdown",
   "metadata": {},
   "source": [
    "__Response:__\n",
    "```\n",
    "{...\n",
    "\"aggregations\" : {\n",
    "    \"types_count\" : {\n",
    "      \"doc_count_error_upper_bound\" : 0,\n",
    "      \"sum_other_doc_count\" : 943,\n",
    "      \"buckets\" : [\n",
    "        {\n",
    "          \"key\" : \"Games\",\n",
    "          \"doc_count\" : 3862\n",
    "        },\n",
    "        {\n",
    "          \"key\" : \"Entertainment\",\n",
    "          \"doc_count\" : 535\n",
    "        },\n",
    "        {\n",
    "          \"key\" : \"Education\",\n",
    "          \"doc_count\" : 453\n",
    "        },\n",
    "        {\n",
    "          \"key\" : \"Photo & Video\",\n",
    "          \"doc_count\" : 349\n",
    "        },\n",
    "        {\n",
    "          \"key\" : \"Utilities\",\n",
    "          \"doc_count\" : 248\n",
    "        },\n",
    "        {\n",
    "          \"key\" : \"Health & Fitness\",\n",
    "          \"doc_count\" : 180\n",
    "        },\n",
    "        {\n",
    "          \"key\" : \"Productivity\",\n",
    "          \"doc_count\" : 178\n",
    "        },\n",
    "        {\n",
    "          \"key\" : \"Social Networking\",\n",
    "          \"doc_count\" : 167\n",
    "        },\n",
    "        {\n",
    "          \"key\" : \"Lifestyle\",\n",
    "          \"doc_count\" : 144\n",
    "        },\n",
    "        {\n",
    "          \"key\" : \"Music\",\n",
    "          \"doc_count\" : 138\n",
    "        }\n",
    "      ]\n",
    "    }\n",
    "\n",
    "```\n",
    "-------------"
   ]
  },
  {
   "cell_type": "markdown",
   "metadata": {},
   "source": [
    "### 3.2 Number of apps in food&drink category?"
   ]
  },
  {
   "cell_type": "markdown",
   "metadata": {},
   "source": [
    "__Query:__\n",
    "```\n",
    "GET app/_doc/_search\n",
    "{\n",
    "    \"query\": {\n",
    "        \"term\": {\n",
    "            \"prime_genre.keyword\": {\n",
    "                \"value\": \"Food & Drink\",\n",
    "                \"boost\": 1.0\n",
    "            }\n",
    "        }\n",
    "    }\n",
    "}\n",
    "```"
   ]
  },
  {
   "cell_type": "markdown",
   "metadata": {},
   "source": [
    "__Response: total 63 apps in food&drink genre , first result is \"OpenTable - Restaurant Reservations\"__\n",
    "\n",
    "```\n",
    "{...  \n",
    " \"hits\" : {\n",
    "    \"total\" : {\n",
    "      \"value\" : 63,\n",
    "      \"relation\" : \"eq\"\n",
    "    },\n",
    "    \"max_score\" : 4.730519,\n",
    "    \"hits\" : [\n",
    "      {\n",
    "        \"_index\" : \"app\",\n",
    "        \"_type\" : \"_doc\",\n",
    "        \"_id\" : \"57\",\n",
    "        \"_score\" : 4.730519,\n",
    "        \"_source\" : {\n",
    "          \"id\" : 296581815,\n",
    "          \"track_name\" : \"OpenTable - Restaurant Reservations\",\n",
    "          \"size_bytes\" : 93420544,\n",
    "          \"currency\" : \"USD\",\n",
    "          \"price\" : 0.0,\n",
    "          \"rating_count_tot\" : 113936,\n",
    "          \"rating_count_ver\" : 150,\n",
    "          \"user_rating\" : 4.5,\n",
    "          \"user_rating_ver\" : 5.0,\n",
    "          \"ver\" : \"10.18.0\",\n",
    "          \"cont_rating\" : \"4+\",\n",
    "          \"prime_genre\" : \"Food & Drink\",\n",
    "          \"sup_devices_num\" : 37,\n",
    "          \"ipadSc_urls_num\" : 1,\n",
    "          \"lang_num\" : 6,\n",
    "          \"vpp_lic\" : 1,\n",
    "          \"app_desc\" : \"\"\"... \n",
    "          }\n",
    "    }\n",
    "```\n",
    "\n",
    "____________"
   ]
  },
  {
   "cell_type": "markdown",
   "metadata": {},
   "source": [
    "###  3.3 Apps that contains breakfeast recipes? "
   ]
  },
  {
   "cell_type": "markdown",
   "metadata": {},
   "source": [
    "__Query:__\n",
    "\n",
    "```\n",
    "GET app/_doc/_search\n",
    "\n",
    "{\n",
    "    \"query\": {\n",
    "        \"match\" : {\n",
    "            \"app_desc\" : {\n",
    "                \"query\" : \"breakfast recipe\",\n",
    "                \"fuzziness\": \"AUTO\"\n",
    "            }\n",
    "        }\n",
    "    }\n",
    "}\n",
    "```"
   ]
  },
  {
   "cell_type": "markdown",
   "metadata": {},
   "source": [
    "__Response : returns total 723 hits, first result is \"Deliciously Ella\"__\n",
    "```\n",
    "{...\n",
    "  \"hits\" : {\n",
    "    \"total\" : {\n",
    "      \"value\" : 723,\n",
    "      \"relation\" : \"eq\"\n",
    "    },\n",
    "    \"max_score\" : 21.456356,\n",
    "    \"hits\" : [\n",
    "      {\n",
    "        \"_index\" : \"app\",\n",
    "        \"_type\" : \"_doc\",\n",
    "        \"_id\" : \"2468\",\n",
    "        \"_score\" : 21.456356,\n",
    "        \"_source\" : {\n",
    "          \"id\" : 813952961,\n",
    "          \"track_name\" : \"Deliciously Ella\",\n",
    "          \"size_bytes\" : 522395648,\n",
    "          \"currency\" : \"USD\",\n",
    "          \"price\" : 3.99,\n",
    "          \"rating_count_tot\" : 62,\n",
    "          \"rating_count_ver\" : 0,\n",
    "          \"user_rating\" : 3.5,\n",
    "          \"user_rating_ver\" : 0.0,\n",
    "          \"ver\" : \"4.0.0\",\n",
    "          \"cont_rating\" : \"4+\",\n",
    "          \"prime_genre\" : \"Food & Drink\",\n",
    "          \"sup_devices_num\" : 37,\n",
    "          \"ipadSc_urls_num\" : 4,\n",
    "          \"lang_num\" : 1,\n",
    "          \"vpp_lic\" : 1,\n",
    "          \"app_desc\" : \"\"\"\n",
    "          }\n",
    "         }\n",
    "```\n",
    "-----"
   ]
  },
  {
   "cell_type": "markdown",
   "metadata": {},
   "source": [
    "### 3.4 Game apps price distributions"
   ]
  },
  {
   "cell_type": "markdown",
   "metadata": {},
   "source": [
    "__Query:__\n",
    "\n",
    "```\n",
    "GET app/_doc/_search?size=0\n",
    "\n",
    "{\n",
    "  \"aggs\": {\n",
    "    \"game_App\": {\n",
    "      \"filter\": {\n",
    "        \"term\": {\n",
    "          \"prime_genre.keyword\": \"Games\"\n",
    "        }\n",
    "      },\n",
    "      \"aggs\": {\n",
    "        \"price_range\": {\n",
    "          \"range\": {\n",
    "            \"field\": \"price\",\n",
    "            \"keyed\": true,\n",
    "            \"ranges\": [\n",
    "              {\"key\" : \"free\",\n",
    "                \"to\": 0.01\n",
    "              },\n",
    "              {\"key\" : \"cheap\",\n",
    "                \"from\": 0.01,\n",
    "                \"to\": 1\n",
    "              },\n",
    "              {\"key\" : \"average\",\n",
    "                \"from\": 1,\n",
    "                \"to\": 5\n",
    "              },\n",
    "              {\"key\" : \"expensive\",\n",
    "                \"from\": 5\n",
    "              }\n",
    "            ]\n",
    "          }\n",
    "        }\n",
    "      }\n",
    "    }\n",
    "  }\n",
    "}\n",
    "```"
   ]
  },
  {
   "cell_type": "markdown",
   "metadata": {},
   "source": [
    "#### Response:"
   ]
  },
  {
   "cell_type": "markdown",
   "metadata": {},
   "source": [
    "```\n",
    "{...\n",
    "    \"aggregations\" : {\n",
    "    \"game_App\" : {\n",
    "      \"doc_count\" : 3862,\n",
    "      \"price_range\" : {\n",
    "        \"buckets\" : {\n",
    "          \"free\" : {\n",
    "            \"to\" : 0.01,\n",
    "            \"doc_count\" : 2257\n",
    "          },\n",
    "          \"cheap\" : {\n",
    "            \"from\" : 0.01,\n",
    "            \"to\" : 1.0,\n",
    "            \"doc_count\" : 435\n",
    "          },\n",
    "          \"average\" : {\n",
    "            \"from\" : 1.0,\n",
    "            \"to\" : 5.0,\n",
    "            \"doc_count\" : 937\n",
    "          },\n",
    "          \"expensive\" : {\n",
    "            \"from\" : 5.0,\n",
    "            \"doc_count\" : 233\n",
    "          }\n",
    "        }\n",
    "      }\n",
    "    }\n",
    "    ```\n",
    "---------------"
   ]
  },
  {
   "cell_type": "markdown",
   "metadata": {},
   "source": [
    "### 3.5 Add more searching criteria"
   ]
  },
  {
   "cell_type": "markdown",
   "metadata": {},
   "source": [
    "```\n",
    "GET app/_doc/_search\n",
    "{\n",
    "  \"query\": {\n",
    "    \"bool\": {\n",
    "      \"filter\": [\n",
    "        {\n",
    "          \"range\": {\n",
    "            \"user_rating\": {\n",
    "              \"gte\": 4.0\n",
    "            }\n",
    "          }\n",
    "        },\n",
    "        {\n",
    "          \"term\": {\n",
    "            \"prime_genre.keyword\": \"Food & Drink\"\n",
    "          }\n",
    "        }\n",
    "      ],\n",
    "      \"must\": {\n",
    "        \"match\": {\n",
    "          \"app_desc\": {\n",
    "            \"query\": \"breakfast recipe\",\n",
    "            \"fuzziness\": \"AUTO\"\n",
    "          }\n",
    "        }\n",
    "      }\n",
    "    }\n",
    "  }\n",
    "}\n",
    "```"
   ]
  },
  {
   "cell_type": "markdown",
   "metadata": {},
   "source": [
    "__Response:__\n",
    "\n",
    "``` {...\n",
    "\"hits\" : {\n",
    "    \"total\" : {\n",
    "      \"value\" : 16,\n",
    "      \"relation\" : \"eq\"\n",
    "    },\n",
    "    \"max_score\" : 16.91071,\n",
    "    \"hits\" : [\n",
    "      {\n",
    "        \"_index\" : \"app\",\n",
    "        \"_type\" : \"_doc\",\n",
    "        \"_id\" : \"5318\",\n",
    "        \"_score\" : 16.91071,\n",
    "        \"_source\" : {\n",
    "          \"id\" : 1079607960,\n",
    "          \"track_name\" : \"Oh She Glows - Healthy Plant-Based Recipes\",\n",
    "          \"size_bytes\" : 69006336,\n",
    "          \"currency\" : \"USD\",\n",
    "          \"price\" : 1.99,\n",
    "          \"rating_count_tot\" : 764,\n",
    "          \"rating_count_ver\" : 22,\n",
    "          \"user_rating\" : 5.0,\n",
    "          \"user_rating_ver\" : 4.5,\n",
    "          \"ver\" : \"1.1.6\",\n",
    "          \"cont_rating\" : \"4+\",\n",
    "          \"prime_genre\" : \"Food & Drink\",\n",
    "          \"sup_devices_num\" : 37,\n",
    "          \"ipadSc_urls_num\" : 5,\n",
    "          \"lang_num\" : 1,\n",
    "          \"vpp_lic\" : 1,\n",
    "          \"app_desc\" : \"\"\"...}\n",
    "          \n",
    "          ```\n",
    "          \n",
    "------------"
   ]
  },
  {
   "cell_type": "markdown",
   "metadata": {},
   "source": [
    "## 4. Document similarity search"
   ]
  },
  {
   "cell_type": "markdown",
   "metadata": {},
   "source": [
    "__Add text analyzer to app_desc field__\n",
    "\n",
    "```\n",
    "PUT /app\n",
    "{\n",
    "  \"settings\": {\n",
    "    \"analysis\": {\n",
    "      \"analyzer\": {\n",
    "        \"english_analyzer\": {\n",
    "          \"type\": \"standard\",\n",
    "          \"stopwords\": \"_english_\"\n",
    "        }\n",
    "      }\n",
    "    }\n",
    "  }\n",
    "}\n",
    "\n",
    "app/_mappings\n",
    "{\n",
    "...\n",
    "\"app_desc\": {\n",
    "      \"type\": \"text\",\n",
    "      \"fields\": {\n",
    "        \"keyword\": {\n",
    "          \"type\": \"keyword\",\n",
    "          \"ignore_above\": 256\n",
    "        }\n",
    "      },\n",
    "      \"analyzer\": \"english_analyzer\"\n",
    "      }\n",
    "...\n",
    "```"
   ]
  },
  {
   "cell_type": "markdown",
   "metadata": {},
   "source": [
    "### 4.1 execute _\"more like this\"_ query for similarity search"
   ]
  },
  {
   "cell_type": "markdown",
   "metadata": {},
   "source": [
    "```\n",
    "GET app/_doc/_search\n",
    "{\n",
    "  \"query\": {\n",
    "    \"more_like_this\": {\n",
    "      \"fields\": [\"app_desc\"],\n",
    "      \"like\": \"breakfast egg and toast cooking recipe\",\n",
    "      \"min_term_freq\": 1,\n",
    "      \"max_query_terms\": 50,\n",
    "      \"min_doc_freq\": 4\n",
    "    }\n",
    "  }\n",
    "}\n",
    "```"
   ]
  },
  {
   "cell_type": "markdown",
   "metadata": {},
   "source": [
    "__Response:__\n",
    "```\n",
    " \"hits\" : {\n",
    "    \"total\" : {\n",
    "      \"value\" : 132,\n",
    "      \"relation\" : \"eq\"\n",
    "    },\n",
    "    \"max_score\" : 20.824436,\n",
    "    \"hits\" : [\n",
    "      {\n",
    "        \"_index\" : \"app\",\n",
    "        \"_type\" : \"_doc\",\n",
    "        \"_id\" : \"5318\",\n",
    "        \"_score\" : 20.824436,\n",
    "        \"_source\" : {\n",
    "          \"id\" : 1079607960,\n",
    "          \"track_name\" : \"Oh She Glows - Healthy Plant-Based Recipes\",\n",
    "          \"size_bytes\" : 69006336,\n",
    "          \"currency\" : \"USD\",\n",
    "          \"price\" : 1.99,\n",
    "          \"rating_count_tot\" : 764,\n",
    "          \"rating_count_ver\" : 22,\n",
    "          \"user_rating\" : 5.0,\n",
    "          \"user_rating_ver\" : 4.5,\n",
    "          \"ver\" : \"1.1.6\",\n",
    "          \"cont_rating\" : \"4+\",\n",
    "          \"prime_genre\" : \"Food & Drink\",\n",
    "          \"sup_devices_num\" : 37,\n",
    "          \"ipadSc_urls_num\" : 5,\n",
    "          \"lang_num\" : 1,\n",
    "          \"vpp_lic\" : 1,\n",
    "          \"app_desc\" : \"\"\" We're thrilled to announce that we're one of App Store's Best of 2016!...}\"\"\" \n",
    "          ```\n"
   ]
  },
  {
   "cell_type": "code",
   "execution_count": null,
   "metadata": {},
   "outputs": [],
   "source": []
  }
 ],
 "metadata": {
  "kernelspec": {
   "display_name": "Python 3",
   "language": "python",
   "name": "python3"
  },
  "language_info": {
   "codemirror_mode": {
    "name": "ipython",
    "version": 3
   },
   "file_extension": ".py",
   "mimetype": "text/x-python",
   "name": "python",
   "nbconvert_exporter": "python",
   "pygments_lexer": "ipython3",
   "version": "3.7.2"
  }
 },
 "nbformat": 4,
 "nbformat_minor": 2
}
